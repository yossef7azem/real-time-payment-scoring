{
 "cells": [
  {
   "cell_type": "code",
   "execution_count": 2,
   "metadata": {},
   "outputs": [],
   "source": [
    "# imports \n",
    "import pandas as pd\n"
   ]
  },
  {
   "cell_type": "code",
   "execution_count": 3,
   "metadata": {},
   "outputs": [],
   "source": [
    "data= pd.read_csv('testing_features_sc.csv')\n"
   ]
  },
  {
   "cell_type": "code",
   "execution_count": 4,
   "metadata": {},
   "outputs": [
    {
     "data": {
      "text/plain": [
       "Index(['CurrentLoanAmount', 'Annual Income', 'Monthly Debt',\n",
       "       'Years of Credit History', 'Number of Open Accounts',\n",
       "       'Number of Credit Problems', 'Current Credit Balance',\n",
       "       'Maximum Open Credit', 'Bankruptcies', 'Tax Liens',\n",
       "       'log_Current Credit Balance', 'sqrt_Maximum Open Credit',\n",
       "       'log_Maximum Open Credit', 'Term_Long Term', 'Term_Short Term',\n",
       "       'Years in current job_1 year', 'Years in current job_10+ years',\n",
       "       'Years in current job_2 years', 'Years in current job_3 years',\n",
       "       'Years in current job_4 years', 'Years in current job_5 years',\n",
       "       'Years in current job_6 years', 'Years in current job_7 years',\n",
       "       'Years in current job_8 years', 'Years in current job_9 years',\n",
       "       'Years in current job_< 1 year', 'Home Ownership_HaveMortgage',\n",
       "       'Home Ownership_Home Mortgage', 'Home Ownership_Own Home',\n",
       "       'Purpose_Business Loan', 'Purpose_Buy House', 'Purpose_Buy a Car',\n",
       "       'Purpose_Debt Consolidation', 'Purpose_Educational Expenses',\n",
       "       'Purpose_Home Improvements', 'Purpose_Medical Bills', 'Purpose_Other',\n",
       "       'Purpose_Take a Trip', 'Purpose_major_purchase', 'Purpose_moving',\n",
       "       'Purpose_other', 'Purpose_renewable_energy', 'Purpose_small_business',\n",
       "       'Purpose_vacation', 'Purpose_wedding'],\n",
       "      dtype='object')"
      ]
     },
     "execution_count": 4,
     "metadata": {},
     "output_type": "execute_result"
    }
   ],
   "source": [
    "data.columns"
   ]
  },
  {
   "cell_type": "code",
   "execution_count": 5,
   "metadata": {},
   "outputs": [
    {
     "name": "stdout",
     "output_type": "stream",
     "text": [
      "<class 'pandas.core.frame.DataFrame'>\n",
      "RangeIndex: 29938 entries, 0 to 29937\n",
      "Data columns (total 45 columns):\n",
      " #   Column                          Non-Null Count  Dtype  \n",
      "---  ------                          --------------  -----  \n",
      " 0   CurrentLoanAmount               29938 non-null  float64\n",
      " 1   Annual Income                   29938 non-null  float64\n",
      " 2   Monthly Debt                    29938 non-null  float64\n",
      " 3   Years of Credit History         29938 non-null  float64\n",
      " 4   Number of Open Accounts         29938 non-null  float64\n",
      " 5   Number of Credit Problems       29938 non-null  float64\n",
      " 6   Current Credit Balance          29938 non-null  float64\n",
      " 7   Maximum Open Credit             29938 non-null  float64\n",
      " 8   Bankruptcies                    29938 non-null  float64\n",
      " 9   Tax Liens                       29938 non-null  float64\n",
      " 10  log_Current Credit Balance      29938 non-null  float64\n",
      " 11  sqrt_Maximum Open Credit        29938 non-null  float64\n",
      " 12  log_Maximum Open Credit         29938 non-null  float64\n",
      " 13  Term_Long Term                  29938 non-null  float64\n",
      " 14  Term_Short Term                 29938 non-null  float64\n",
      " 15  Years in current job_1 year     29938 non-null  float64\n",
      " 16  Years in current job_10+ years  29938 non-null  float64\n",
      " 17  Years in current job_2 years    29938 non-null  float64\n",
      " 18  Years in current job_3 years    29938 non-null  float64\n",
      " 19  Years in current job_4 years    29938 non-null  float64\n",
      " 20  Years in current job_5 years    29938 non-null  float64\n",
      " 21  Years in current job_6 years    29938 non-null  float64\n",
      " 22  Years in current job_7 years    29938 non-null  float64\n",
      " 23  Years in current job_8 years    29938 non-null  float64\n",
      " 24  Years in current job_9 years    29938 non-null  float64\n",
      " 25  Years in current job_< 1 year   29938 non-null  float64\n",
      " 26  Home Ownership_HaveMortgage     29938 non-null  float64\n",
      " 27  Home Ownership_Home Mortgage    29938 non-null  float64\n",
      " 28  Home Ownership_Own Home         29938 non-null  float64\n",
      " 29  Purpose_Business Loan           29938 non-null  float64\n",
      " 30  Purpose_Buy House               29938 non-null  float64\n",
      " 31  Purpose_Buy a Car               29938 non-null  float64\n",
      " 32  Purpose_Debt Consolidation      29938 non-null  float64\n",
      " 33  Purpose_Educational Expenses    29938 non-null  float64\n",
      " 34  Purpose_Home Improvements       29938 non-null  float64\n",
      " 35  Purpose_Medical Bills           29938 non-null  float64\n",
      " 36  Purpose_Other                   29938 non-null  float64\n",
      " 37  Purpose_Take a Trip             29938 non-null  float64\n",
      " 38  Purpose_major_purchase          29938 non-null  float64\n",
      " 39  Purpose_moving                  29938 non-null  float64\n",
      " 40  Purpose_other                   29938 non-null  float64\n",
      " 41  Purpose_renewable_energy        29938 non-null  float64\n",
      " 42  Purpose_small_business          29938 non-null  float64\n",
      " 43  Purpose_vacation                29938 non-null  float64\n",
      " 44  Purpose_wedding                 29938 non-null  float64\n",
      "dtypes: float64(45)\n",
      "memory usage: 10.3 MB\n"
     ]
    }
   ],
   "source": [
    "data.info()"
   ]
  },
  {
   "cell_type": "code",
   "execution_count": 6,
   "metadata": {},
   "outputs": [
    {
     "data": {
      "text/plain": [
       "CurrentLoanAmount                 0.003055\n",
       "Annual Income                     0.039722\n",
       "Monthly Debt                      0.051891\n",
       "Years of Credit History           0.257485\n",
       "Number of Open Accounts           0.092105\n",
       "Number of Credit Problems         0.000000\n",
       "Current Credit Balance            0.024980\n",
       "Maximum Open Credit               0.000904\n",
       "Bankruptcies                      0.000000\n",
       "Tax Liens                         0.000000\n",
       "log_Current Credit Balance        0.786828\n",
       "sqrt_Maximum Open Credit          0.030072\n",
       "log_Maximum Open Credit           0.668714\n",
       "Term_Long Term                    1.000000\n",
       "Term_Short Term                   0.000000\n",
       "Years in current job_1 year       0.000000\n",
       "Years in current job_10+ years    1.000000\n",
       "Years in current job_2 years      0.000000\n",
       "Years in current job_3 years      0.000000\n",
       "Years in current job_4 years      0.000000\n",
       "Years in current job_5 years      0.000000\n",
       "Years in current job_6 years      0.000000\n",
       "Years in current job_7 years      0.000000\n",
       "Years in current job_8 years      0.000000\n",
       "Years in current job_9 years      0.000000\n",
       "Years in current job_< 1 year     0.000000\n",
       "Home Ownership_HaveMortgage       0.000000\n",
       "Home Ownership_Home Mortgage      0.000000\n",
       "Home Ownership_Own Home           0.000000\n",
       "Purpose_Business Loan             0.000000\n",
       "Purpose_Buy House                 0.000000\n",
       "Purpose_Buy a Car                 0.000000\n",
       "Purpose_Debt Consolidation        1.000000\n",
       "Purpose_Educational Expenses      0.000000\n",
       "Purpose_Home Improvements         0.000000\n",
       "Purpose_Medical Bills             0.000000\n",
       "Purpose_Other                     0.000000\n",
       "Purpose_Take a Trip               0.000000\n",
       "Purpose_major_purchase            0.000000\n",
       "Purpose_moving                    0.000000\n",
       "Purpose_other                     0.000000\n",
       "Purpose_renewable_energy          0.000000\n",
       "Purpose_small_business            0.000000\n",
       "Purpose_vacation                  0.000000\n",
       "Purpose_wedding                   0.000000\n",
       "Name: 0, dtype: float64"
      ]
     },
     "execution_count": 6,
     "metadata": {},
     "output_type": "execute_result"
    }
   ],
   "source": [
    "data.iloc[0]"
   ]
  },
  {
   "cell_type": "code",
   "execution_count": 7,
   "metadata": {},
   "outputs": [],
   "source": [
    "test = pd.read_csv('testing_labels_proc.csv')"
   ]
  },
  {
   "cell_type": "code",
   "execution_count": 8,
   "metadata": {},
   "outputs": [
    {
     "data": {
      "text/html": [
       "<div>\n",
       "<style scoped>\n",
       "    .dataframe tbody tr th:only-of-type {\n",
       "        vertical-align: middle;\n",
       "    }\n",
       "\n",
       "    .dataframe tbody tr th {\n",
       "        vertical-align: top;\n",
       "    }\n",
       "\n",
       "    .dataframe thead th {\n",
       "        text-align: right;\n",
       "    }\n",
       "</style>\n",
       "<table border=\"1\" class=\"dataframe\">\n",
       "  <thead>\n",
       "    <tr style=\"text-align: right;\">\n",
       "      <th></th>\n",
       "      <th>Credit Score</th>\n",
       "    </tr>\n",
       "  </thead>\n",
       "  <tbody>\n",
       "    <tr>\n",
       "      <th>0</th>\n",
       "      <td>702.000000</td>\n",
       "    </tr>\n",
       "    <tr>\n",
       "      <th>1</th>\n",
       "      <td>716.278671</td>\n",
       "    </tr>\n",
       "    <tr>\n",
       "      <th>2</th>\n",
       "      <td>688.000000</td>\n",
       "    </tr>\n",
       "    <tr>\n",
       "      <th>3</th>\n",
       "      <td>716.278671</td>\n",
       "    </tr>\n",
       "    <tr>\n",
       "      <th>4</th>\n",
       "      <td>740.000000</td>\n",
       "    </tr>\n",
       "  </tbody>\n",
       "</table>\n",
       "</div>"
      ],
      "text/plain": [
       "   Credit Score\n",
       "0    702.000000\n",
       "1    716.278671\n",
       "2    688.000000\n",
       "3    716.278671\n",
       "4    740.000000"
      ]
     },
     "execution_count": 8,
     "metadata": {},
     "output_type": "execute_result"
    }
   ],
   "source": [
    "test.head()"
   ]
  },
  {
   "cell_type": "code",
   "execution_count": 10,
   "metadata": {},
   "outputs": [],
   "source": [
    "final_data = pd.concat([data,test] ,axis=1)"
   ]
  },
  {
   "cell_type": "code",
   "execution_count": 11,
   "metadata": {},
   "outputs": [],
   "source": [
    "final_data.to_csv('final_data.csv' ,index=False)"
   ]
  },
  {
   "cell_type": "code",
   "execution_count": null,
   "metadata": {},
   "outputs": [],
   "source": []
  }
 ],
 "metadata": {
  "kernelspec": {
   "display_name": "base",
   "language": "python",
   "name": "python3"
  },
  "language_info": {
   "codemirror_mode": {
    "name": "ipython",
    "version": 3
   },
   "file_extension": ".py",
   "mimetype": "text/x-python",
   "name": "python",
   "nbconvert_exporter": "python",
   "pygments_lexer": "ipython3",
   "version": "3.11.7"
  }
 },
 "nbformat": 4,
 "nbformat_minor": 2
}
